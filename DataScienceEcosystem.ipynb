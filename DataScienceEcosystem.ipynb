{
 "cells": [
  {
   "cell_type": "markdown",
   "id": "342493c5-1cd5-4466-a84c-db17e2c7e825",
   "metadata": {},
   "source": [
    "# Data Science Tools and Ecosystem"
   ]
  },
  {
   "cell_type": "markdown",
   "id": "3fb26b0f-6084-48a1-8aed-7da51fd3d3e0",
   "metadata": {},
   "source": [
    "This is a notebook that provides a summary of Data Science Tools and Ecosystem"
   ]
  },
  {
   "cell_type": "markdown",
   "id": "1e0c320b-eea8-4c53-a30f-056c4a3a3c36",
   "metadata": {},
   "source": [
    "A few popular languages used by Data Scientists include:\n",
    "    1) Python\n",
    "    2) R\n",
    "    3) SQL"
   ]
  },
  {
   "cell_type": "markdown",
   "id": "6eae061d-04ca-4581-9c34-e50e9a88821b",
   "metadata": {},
   "source": [
    "**Objectives:** \n",
    "+ Common languages used in data science\n",
    "+ Common tools used by data scientists\n",
    "+ How to evaluate arithmetic expressions"
   ]
  },
  {
   "cell_type": "markdown",
   "id": "c3881090-e223-4199-b7cd-0289a9d92b83",
   "metadata": {},
   "source": [
    "A few popular libraries used by Data Scientists include:\n",
    "    1) NumPy\n",
    "    2) Pandas\n",
    "    3) TensorFlow"
   ]
  },
  {
   "cell_type": "markdown",
   "id": "5ebbb589-5a00-4ca8-877a-e9db34d87b68",
   "metadata": {},
   "source": [
    "| Data Science Tools |\n",
    "| ------------------ |\n",
    "| Hadoop             |\n",
    "| Apache Spark       |\n",
    "| RStudio            |\n"
   ]
  },
  {
   "cell_type": "markdown",
   "id": "ee1a67b0-0f1a-4f60-81f2-6d522325d88d",
   "metadata": {},
   "source": [
    "### Below are some examples of how to evaluate arithmetic expressions using Python:"
   ]
  },
  {
   "cell_type": "code",
   "execution_count": 4,
   "id": "b172d230-ddfe-468f-ab6d-d4e4e273cbc1",
   "metadata": {
    "tags": []
   },
   "outputs": [
    {
     "data": {
      "text/plain": [
       "17"
      ]
     },
     "execution_count": 4,
     "metadata": {},
     "output_type": "execute_result"
    }
   ],
   "source": [
    "#This is an example of how to multiply, then add integers\n",
    "\n",
    "(3*4)+5"
   ]
  },
  {
   "cell_type": "code",
   "execution_count": 5,
   "id": "b28a5fe7-8de1-456b-9c2d-32d40519c8c4",
   "metadata": {
    "tags": []
   },
   "outputs": [
    {
     "data": {
      "text/plain": [
       "3.3333333333333335"
      ]
     },
     "execution_count": 5,
     "metadata": {},
     "output_type": "execute_result"
    }
   ],
   "source": [
    "#This will convert 200 minutes into hours by dividing by 60\n",
    "\n",
    "200/60"
   ]
  },
  {
   "cell_type": "markdown",
   "id": "4119aa6d-2d01-4245-a0d8-339d57671c8d",
   "metadata": {},
   "source": [
    "## Author\n",
    "Alec Covey"
   ]
  }
 ],
 "metadata": {
  "kernelspec": {
   "display_name": "Python",
   "language": "python",
   "name": "conda-env-python-py"
  },
  "language_info": {
   "codemirror_mode": {
    "name": "ipython",
    "version": 3
   },
   "file_extension": ".py",
   "mimetype": "text/x-python",
   "name": "python",
   "nbconvert_exporter": "python",
   "pygments_lexer": "ipython3",
   "version": "3.7.12"
  }
 },
 "nbformat": 4,
 "nbformat_minor": 5
}
